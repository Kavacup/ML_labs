{
 "cells": [
  {
   "cell_type": "markdown",
   "id": "8f722dbd",
   "metadata": {},
   "source": [
    "<center>МИНИСТЕРСТВО НАУКИ И ВЫСШЕГО ОБРАЗОВАНИЯ РОССИЙСКОЙ ФЕДЕРАЦИИ </center>\n",
    "<center>ФЕДЕРАЛЬНОЕ ГОСУДАРСТВЕННОЕ БЮДЖЕТНОЕ ОБРАЗОВАТЕЛЬНОЕ УЧРЕЖДЕНИЕ ВЫСШЕГО ОБРАЗОВАНИЯ </center>\n",
    "<center>«НОВОСИБИРСКИЙ ГОСУДАРСТВЕННЫЙ ТЕХНИЧЕСКИЙ УНИВЕРСИТЕТ»</center>\n",
    "<center>Кафедра Вычислительной техники </center>\n",
    "<br>\n",
    "<center> <b> <font size=\"5\">  ОТЧЁТ </font>  </b>  </center>   \n",
    "<center><font size=\"3\">по лабораторной работе №1</font></center>\n",
    "<center><font size=\"3\">по дисциплине: «Системы искусственного интеллекта и машинное обучение» </font></center>\n",
    "<br>"
   ]
  },
  {
   "cell_type": "markdown",
   "id": "6792bcd7",
   "metadata": {},
   "source": [
    "## Цель работы\n",
    "\n",
    "Получить практические навыки работы по решению задачи первичного анализа «сырых» данных, подготовки массива к обработке, выявлению и описанию зависимостей в исходных данных с использованием языка программирования Python."
   ]
  },
  {
   "cell_type": "markdown",
   "id": "26bc3440",
   "metadata": {},
   "source": [
    "## Основная часть\n",
    "---"
   ]
  },
  {
   "cell_type": "markdown",
   "id": "5a5b3c3b",
   "metadata": {},
   "source": [
    "### Первичный анализ датасета"
   ]
  },
  {
   "cell_type": "markdown",
   "id": "3f794193",
   "metadata": {},
   "source": [
    "**Предметная область** - доход и размеры домашних хозяйств Калифорнии по данным до 1990г.\n",
    "Признаки в таблице:\n",
    "1) Median House Value: Медианная цена дома в квартале[$]\n",
    "2) Median Income: Медианный доход на семью в квартале[10тыс.$] (TARGET)\n",
    "3) Median Age: Медианный возраст дома в квартале; меньше = новее [лет]\n",
    "4) Total Rooms: Общее количество комнат в квартале\n",
    "5) Total Bedrooms: Общее количество спален в квартале\n",
    "6) Population: Общее количество людей, проживающих в квартале\n",
    "7) Households: Общее количество домохозяйств, групп людей, проживающих в жилом помещении, в квартале\n",
    "8) Latitude: показатель того, насколько далеко на север находится дом; чем выше значение, тем дальше на север [°]\n",
    "9) Longitude: показатель того, насколько далеко на запад находится дом; чем выше значение, тем дальше на запад [°]\n",
    "10) Distance to coast: расстояние до ближайшей точки побережья [м]\n",
    "11) Distance to Los Angeles: расстояние до центра Лос-Анджелеса [м]\n",
    "12) Distance to San Diego: расстояние до центра Сан-Диего [м]\n",
    "13) Distance to San Jose: расстояние до центра Сан-Хосе [м]\n",
    "14) Distance to San Francisco: расстояние до центра Сан-Франциско [м]\n",
    "15) Distance to the ocean (Расстояние до океана)"
   ]
  },
  {
   "cell_type": "markdown",
   "id": "2e2d002b",
   "metadata": {},
   "source": [
    "Структура csv-файла:\n",
    "- Ячейки разделены \";\"\n",
    "- Дробная часть помечена \".\"\n",
    "- Нечисловой признак - ocean_proximity\n",
    "- Дат не представлено\n",
    "- Null помечены \"?$?\" (единственная запись)"
   ]
  },
  {
   "cell_type": "code",
   "execution_count": null,
   "id": "9f32566e",
   "metadata": {},
   "outputs": [],
   "source": [
    "import pandas as pd\n",
    "dataset_file = \"datasets/California_Houses_15_col_dot.csv\"\n",
    "dataset = pd.read_csv(\n",
    "    dataset_file,\n",
    "    sep=';',\n",
    "    decimal='.',\n",
    "    header=0,\n",
    "    na_values=['?$?']\n",
    ")\n",
    "\n",
    "dataset.head()"
   ]
  },
  {
   "cell_type": "markdown",
   "id": "23260658",
   "metadata": {},
   "source": [
    "Выясним размеры датасета"
   ]
  },
  {
   "cell_type": "code",
   "execution_count": null,
   "id": "5009cf83",
   "metadata": {},
   "outputs": [],
   "source": [
    "num_rows, num_cols = dataset.shape\n",
    "print(f\"Размеры набора данных: {num_rows} строк и {num_cols} столбцов\\n\")\n",
    "dataset.info()"
   ]
  },
  {
   "cell_type": "markdown",
   "id": "8bbd43ec",
   "metadata": {},
   "source": [
    "Посчитаем пропуски в записях"
   ]
  },
  {
   "cell_type": "code",
   "execution_count": null,
   "id": "1395f81b",
   "metadata": {},
   "outputs": [],
   "source": [
    "for col in dataset.columns:\n",
    "    print(f\"{col}: {dataset[col].isna().sum()} пропусков\")"
   ]
  },
  {
   "cell_type": "markdown",
   "id": "7f1f0352",
   "metadata": {},
   "source": [
    "Признак Tot_Rooms имеет тип float - следствие наличия в выборке NaN"
   ]
  },
  {
   "cell_type": "code",
   "execution_count": null,
   "id": "32039c52",
   "metadata": {},
   "outputs": [],
   "source": [
    "dataset.loc[dataset[\"Tot_Rooms\"] % 1 != 0]"
   ]
  },
  {
   "cell_type": "markdown",
   "id": "6b71d349",
   "metadata": {},
   "source": [
    "Признак *Median_Income* является nan лишь в двух записях "
   ]
  },
  {
   "cell_type": "code",
   "execution_count": null,
   "id": "850ccc16",
   "metadata": {},
   "outputs": [],
   "source": [
    "dataset[dataset.Median_Income.isna()]"
   ]
  },
  {
   "cell_type": "markdown",
   "id": "95ff6f17",
   "metadata": {},
   "source": [
    "Признак *ocean_proximity* - единственный нечисловой, представлен 5 уникальными строками"
   ]
  },
  {
   "cell_type": "code",
   "execution_count": null,
   "id": "376e9c7d",
   "metadata": {},
   "outputs": [],
   "source": [
    "if (dataset.dtypes == 'object').sum() >0:\n",
    "    print(dataset.describe(include=['object', 'bool']).T )\n",
    "dataset.ocean_proximity.value_counts()"
   ]
  },
  {
   "cell_type": "markdown",
   "id": "a38228d1",
   "metadata": {},
   "source": [
    "В то же время он сильно связан с числовым признаком Distance_to_coast (за исключением случаев ISLAND, коих лишь 5)"
   ]
  },
  {
   "cell_type": "code",
   "execution_count": null,
   "id": "cd9548a7",
   "metadata": {},
   "outputs": [],
   "source": [
    "dataset.groupby(\"ocean_proximity\")[\"Distance_to_coast\"].describe()\n"
   ]
  },
  {
   "cell_type": "markdown",
   "id": "57eb0214",
   "metadata": {},
   "source": [
    "Имеется дубликат признака Median_House_Value"
   ]
  },
  {
   "cell_type": "code",
   "execution_count": null,
   "id": "944b3e10",
   "metadata": {},
   "outputs": [],
   "source": [
    "tmp = dataset.loc[dataset[\"Median_House_Value\"] != dataset[\"median_house_value\"]]\n",
    "if tmp.empty:\n",
    "    print(\"Median_House_Value полностью дублирует признак median_house_value\")\n",
    "else:\n",
    "    print(\"Median_House_Value отличается от признака median_house_value\")\n",
    "    tmp"
   ]
  },
  {
   "cell_type": "markdown",
   "id": "0affd0d7",
   "metadata": {},
   "source": [
    "Уберем признак median_house_value из выборки"
   ]
  },
  {
   "cell_type": "code",
   "execution_count": null,
   "id": "b386ee52",
   "metadata": {},
   "outputs": [],
   "source": [
    "dataset = dataset.drop(columns=[\"median_house_value\"])"
   ]
  },
  {
   "cell_type": "markdown",
   "id": "5270db02",
   "metadata": {},
   "source": [
    "Во всем датасете на 20к записей лишь 3 пропуска -> исключим их по строкам"
   ]
  },
  {
   "cell_type": "code",
   "execution_count": null,
   "id": "a0c68c82",
   "metadata": {},
   "outputs": [],
   "source": [
    "print(\"Размер исходного DataFrame\", dataset.shape)\n",
    "print(\"Размер при исключении по строкам\",  dataset.dropna(axis='index', how='any').shape)\n",
    "dataset = dataset.dropna(axis='index', how='any')\n",
    "if dataset.any().isna().sum() != 0:\n",
    "    print(\"В данных остались пропуски\")\n",
    "else:\n",
    "    print(\"Пропусков в данных не осталось\")\n"
   ]
  },
  {
   "cell_type": "markdown",
   "id": "e41593e8",
   "metadata": {},
   "source": [
    "Признак *ocean_proximity* - категориальный и не может быть однозначно перенесен на числовую ось. Используем прием One-Hot encoding"
   ]
  },
  {
   "cell_type": "code",
   "execution_count": null,
   "id": "75a83438",
   "metadata": {},
   "outputs": [],
   "source": [
    "obj_col_name    = \"ocean_proximity\"\n",
    "prefix_col_name = \"OcPrx\"\n",
    "\n",
    "dataset_dummies = pd.get_dummies(\n",
    "    data   = dataset[obj_col_name],\n",
    "    prefix = prefix_col_name,\n",
    "    dtype  = int,\n",
    ")\n",
    "\n",
    "dataset_dummies.head()"
   ]
  },
  {
   "cell_type": "markdown",
   "id": "b64ebc43",
   "metadata": {},
   "source": [
    "Избавимся от нечислового *ocean_proximity*, заменив на выбранную кодировку"
   ]
  },
  {
   "cell_type": "code",
   "execution_count": null,
   "id": "44141e9d",
   "metadata": {},
   "outputs": [],
   "source": [
    "dataset.drop(columns=[obj_col_name], inplace=True)\n",
    "dataset = pd.concat([dataset, dataset_dummies], axis='columns')\n",
    "dataset.head()"
   ]
  },
  {
   "cell_type": "markdown",
   "id": "232c2b11",
   "metadata": {},
   "source": [
    "---"
   ]
  },
  {
   "cell_type": "markdown",
   "id": "2afc69a8",
   "metadata": {},
   "source": [
    "### Выбор целевого значения и признаков для анализа данных"
   ]
  },
  {
   "cell_type": "markdown",
   "id": "5c9e2ac0",
   "metadata": {},
   "source": [
    "Целевой признак - Median Income: Медианный доход на семью в квартале[10тыс.$].\n",
    "\n",
    "Построим матрицу корреляции (коэфф. корреляции Пирсона) для возможных комбинай пар."
   ]
  },
  {
   "cell_type": "code",
   "execution_count": null,
   "id": "8e0ed50d",
   "metadata": {},
   "outputs": [],
   "source": [
    "corr_coeffs = dataset.corr(method='pearson')\n",
    "corr_coeffs.style.background_gradient(cmap='coolwarm', axis=None)"
   ]
  },
  {
   "cell_type": "code",
   "execution_count": null,
   "id": "658f95f5",
   "metadata": {},
   "outputs": [],
   "source": [
    "import seaborn as sns\n",
    "import numpy as np\n",
    "import matplotlib.pyplot as plt\n",
    "\n",
    "mask = np.zeros_like(corr_coeffs, dtype=bool)\n",
    "mask[np.triu_indices_from(mask)] = True\n",
    "\n",
    "fig, ax = plt.subplots(figsize=(12,12))\n",
    "sns.set_theme(font_scale=0.8)\n",
    "\n",
    "sns.heatmap(\n",
    "            data=corr_coeffs,\n",
    "            vmin=-1, vmax=1, center=0,\n",
    "            annot=True,\n",
    "            cmap = 'RdBu_r',\n",
    "            mask=mask,\n",
    "            square=True,\n",
    "            linewidths=1.0,\n",
    "            cbar_kws={\"shrink\": .7}\n",
    "           )\n",
    "plt.title(u'Матрица корреляции признаков');"
   ]
  },
  {
   "cell_type": "code",
   "execution_count": null,
   "id": "588c5700",
   "metadata": {},
   "outputs": [],
   "source": [
    "corr_coeffs[\"Median_Income\"].abs().sort_values(ascending=False)"
   ]
  },
  {
   "cell_type": "markdown",
   "id": "b8bd7b00",
   "metadata": {},
   "source": [
    "В качестве независимых переменных выберем признаки с высоким абс. значением коэфф. корреляции, но при этом как можно более не связанные между собой. Кандидаты:\n",
    "- *Median_House_Value* - Медианная цена дома в квартале [$]\n",
    "- *Distance_to_coast*- расстояние до ближайшей точки побережья [м] (или *OcPrx_INLAND*)\n",
    "- *Tot_Rooms* - Общее количество комнат в квартале\n",
    "- *Median_Age* - Медианный возраст дома в квартале; меньше = новее [лет]"
   ]
  },
  {
   "cell_type": "code",
   "execution_count": null,
   "id": "a5653829",
   "metadata": {},
   "outputs": [],
   "source": [
    "features = ['Median_House_Value', 'Distance_to_coast', 'Tot_Rooms',  'Median_Age']\n",
    "target = ['Median_Income']"
   ]
  },
  {
   "cell_type": "markdown",
   "id": "6df0e8f4",
   "metadata": {},
   "source": [
    "Построим попарные распределения признаков"
   ]
  },
  {
   "cell_type": "code",
   "execution_count": null,
   "id": "36a2693a",
   "metadata": {},
   "outputs": [],
   "source": [
    "plt.figure(figsize=(7,7))\n",
    "%config InlineBackend.figure_format = 'png'\n",
    "\n",
    "sns.pairplot(\n",
    "    dataset[features + target],\n",
    "    kind=\"scatter\",\n",
    "    diag_kind = 'hist',\n",
    "    plot_kws={'alpha':0.3}\n",
    ");"
   ]
  },
  {
   "cell_type": "markdown",
   "id": "eea506de",
   "metadata": {},
   "source": [
    "Посмотрим на распределения самих значений - нужно будет отсеить выбросы"
   ]
  },
  {
   "cell_type": "code",
   "execution_count": null,
   "id": "3ce76733",
   "metadata": {},
   "outputs": [],
   "source": [
    "for feature_name in (features+target):\n",
    "    plt.figure(figsize=(16,2))\n",
    "    sns.boxplot(data=dataset[[feature_name]], orient='h')"
   ]
  },
  {
   "cell_type": "markdown",
   "id": "b10c946e",
   "metadata": {},
   "source": [
    "Зададим пределы"
   ]
  },
  {
   "cell_type": "code",
   "execution_count": null,
   "id": "713af17e",
   "metadata": {},
   "outputs": [],
   "source": [
    "threshold_map = {\n",
    "    'Median_House_Value' : (0,480000),\n",
    "    'Distance_to_coast' : (0,120000),\n",
    "    'Tot_Rooms' : (0, 6000),\n",
    "    'Median_Age' : (0, 60),\n",
    "    'Median_Income' : (0, 8)\n",
    "}\n",
    "print(threshold_map)"
   ]
  },
  {
   "cell_type": "markdown",
   "id": "8496b9d1",
   "metadata": {},
   "source": [
    "И посмотрим, сколько значений выходит за эти границы"
   ]
  },
  {
   "cell_type": "code",
   "execution_count": null,
   "id": "c2c32fc4",
   "metadata": {},
   "outputs": [],
   "source": [
    "for feature_name  in threshold_map:\n",
    "    threshold_min =  threshold_map[feature_name][0]\n",
    "    threshold_max =  threshold_map[feature_name][1]\n",
    "\n",
    "    over_count = len(dataset[~((dataset[feature_name] >= threshold_min ) & (dataset[feature_name] <= threshold_max))])\n",
    "    dcount = dataset[feature_name].count()\n",
    "\n",
    "    print ('''{}. Принимаем пороговые значение равными {}.\\nКол-во эл. вне пороговых - {} из {} значение(ий) ({:.1%})\\n'''.format(\n",
    "        feature_name,\n",
    "        threshold_map[feature_name],\n",
    "        over_count,\n",
    "        dcount,\n",
    "        over_count/ dcount,\n",
    "    ))"
   ]
  },
  {
   "cell_type": "markdown",
   "id": "888a355e",
   "metadata": {},
   "source": [
    "Откинем все записи, где значения признаков выходят за рамки "
   ]
  },
  {
   "cell_type": "code",
   "execution_count": null,
   "id": "e939ab91",
   "metadata": {},
   "outputs": [],
   "source": [
    "dataset_filtered = dataset.copy()\n",
    "\n",
    "for feature_name  in threshold_map:\n",
    "    threshold_min =  threshold_map[feature_name][0]\n",
    "    threshold_max =  threshold_map[feature_name][1]\n",
    "    dataset_filtered = dataset_filtered[(dataset_filtered[feature_name] >= threshold_min ) & (dataset_filtered[feature_name] <= threshold_max)]\n",
    "    print(\"Обработан \", feature_name )\n",
    "\n",
    "print (\"Отброшено {} строк. Осталось {} строк.\".format(\n",
    "    len(dataset)  - len(dataset_filtered),\n",
    "    len(dataset_filtered))\n",
    ")"
   ]
  },
  {
   "cell_type": "markdown",
   "id": "131a689b",
   "metadata": {},
   "source": [
    "Получим следующие распределения значений"
   ]
  },
  {
   "cell_type": "code",
   "execution_count": null,
   "id": "8395ea82",
   "metadata": {},
   "outputs": [],
   "source": [
    "# dataset_filtered[features].hist() #Упрощенный вывод графиков\n",
    "\n",
    "plt.figure(figsize=(16, 5))\n",
    "plot_number = 0\n",
    "\n",
    "for feature_name in (features+target):\n",
    "    plot_number += 1\n",
    "    plt.subplot(1, len(features+target), plot_number)\n",
    "    plt.hist(dataset_filtered[feature_name])\n",
    "\n",
    "    plt.title(feature_name)\n",
    "    plt.xlabel(u'Значения')\n",
    "    plt.ylabel(u'Частота')\n",
    "    print (feature_name,\n",
    "           dataset_filtered[feature_name].min(),\n",
    "           dataset_filtered[feature_name].max())"
   ]
  },
  {
   "cell_type": "markdown",
   "id": "65aa9a63",
   "metadata": {},
   "source": [
    "Сохраним этот отфильтрованный датасет"
   ]
  },
  {
   "cell_type": "code",
   "execution_count": null,
   "id": "cf02cf2d",
   "metadata": {},
   "outputs": [],
   "source": [
    "dataset_filtered.to_csv('datasets/dataset_prepared.csv', index=False)"
   ]
  }
 ],
 "metadata": {
  "kernelspec": {
   "display_name": "ml_lab_1",
   "language": "python",
   "name": "python3"
  },
  "language_info": {
   "codemirror_mode": {
    "name": "ipython",
    "version": 3
   },
   "file_extension": ".py",
   "mimetype": "text/x-python",
   "name": "python",
   "nbconvert_exporter": "python",
   "pygments_lexer": "ipython3",
   "version": "3.10.11"
  }
 },
 "nbformat": 4,
 "nbformat_minor": 5
}
