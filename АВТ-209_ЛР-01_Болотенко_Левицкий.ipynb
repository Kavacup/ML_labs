{
 "cells": [
  {
   "cell_type": "markdown",
   "id": "8f722dbd",
   "metadata": {},
   "source": [
    "<center>МИНИСТЕРСТВО НАУКИ И ВЫСШЕГО ОБРАЗОВАНИЯ РОССИЙСКОЙ ФЕДЕРАЦИИ </center>\n",
    "<center>ФЕДЕРАЛЬНОЕ ГОСУДАРСТВЕННОЕ БЮДЖЕТНОЕ ОБРАЗОВАТЕЛЬНОЕ УЧРЕЖДЕНИЕ ВЫСШЕГО ОБРАЗОВАНИЯ </center>\n",
    "<center>«НОВОСИБИРСКИЙ ГОСУДАРСТВЕННЫЙ ТЕХНИЧЕСКИЙ УНИВЕРСИТЕТ»</center>\n",
    "<center>Кафедра Вычислительной техники </center>\n",
    "<br>\n",
    "<center> <b> <font size=\"5\">  ОТЧЁТ </font>  </b>  </center>   \n",
    "<center><font size=\"3\">по лабораторной работе №1</font></center>\n",
    "<center><font size=\"3\">по дисциплине: «Системы искусственного интеллекта и машинное обучение» </font></center>\n",
    "<br>"
   ]
  },
  {
   "cell_type": "markdown",
   "id": "6792bcd7",
   "metadata": {},
   "source": [
    "## Цель работы\n",
    "\n",
    "Получить практические навыки работы по решению задачи первичного анализа «сырых» данных, подготовки массива к обработке, выявлению и описанию зависимостей в исходных данных с использованием языка программирования Python."
   ]
  },
  {
   "cell_type": "markdown",
   "id": "26bc3440",
   "metadata": {},
   "source": [
    "## Основная часть"
   ]
  },
  {
   "cell_type": "markdown",
   "id": "3f794193",
   "metadata": {},
   "source": [
    "**Предметная область** - доход и размеры домашник хозяйств Калифорнии по данным до 1990г.\n",
    "Признаки в таблице:\n",
    "1) Median House Value: Медианная цена дома в блоке[$]\n",
    "2) Median Income: Медианный доход на семью в блоке[10k$] (TARGET)\n",
    "3) Median Age: Медианный Median age of a house within a block; a lower number is a newer building [years]\n",
    "4) Total Rooms: Total number of rooms within a block\n",
    "5) Total Bedrooms: Total number of bedrooms within a block\n",
    "6) Population: Total number of people residing within a block\n",
    "7) Households: Total number of households, a group of people residing within a home unit, for a block\n",
    "8) Latitude: A measure of how far north a house is; a higher value is farther north [°]\n",
    "9) Longitude: A measure of how far west a house is; a higher value is farther west [°]\n",
    "10) Distance to coast: Distance to the nearest coast point [m]\n",
    "11) Distance to Los Angeles: Distance to the centre of Los Angeles [m]\n",
    "12) Distance to San Diego: Distance to the centre of San Diego [m]\n",
    "13) Distance to San Jose: Distance to the centre of San Jose [m]\n",
    "14) Distance to San Francisco: Distance to the centre of San Francisco [m]\n",
    "15) Distance to the ocean "
   ]
  },
  {
   "cell_type": "code",
   "execution_count": null,
   "id": "b7e191f4",
   "metadata": {
    "vscode": {
     "languageId": "plaintext"
    }
   },
   "outputs": [],
   "source": []
  }
 ],
 "metadata": {
  "language_info": {
   "name": "python"
  }
 },
 "nbformat": 4,
 "nbformat_minor": 5
}
