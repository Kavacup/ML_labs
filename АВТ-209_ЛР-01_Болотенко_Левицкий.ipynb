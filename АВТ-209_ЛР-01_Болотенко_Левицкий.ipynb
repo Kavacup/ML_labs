{
 "cells": [
  {
   "cell_type": "markdown",
   "id": "8f722dbd",
   "metadata": {},
   "source": [
    "<center>МИНИСТЕРСТВО НАУКИ И ВЫСШЕГО ОБРАЗОВАНИЯ РОССИЙСКОЙ ФЕДЕРАЦИИ </center>\n",
    "<center>ФЕДЕРАЛЬНОЕ ГОСУДАРСТВЕННОЕ БЮДЖЕТНОЕ ОБРАЗОВАТЕЛЬНОЕ УЧРЕЖДЕНИЕ ВЫСШЕГО ОБРАЗОВАНИЯ </center>\n",
    "<center>«НОВОСИБИРСКИЙ ГОСУДАРСТВЕННЫЙ ТЕХНИЧЕСКИЙ УНИВЕРСИТЕТ»</center>\n",
    "<center>Кафедра Вычислительной техники </center>\n",
    "<br>\n",
    "<center> <b> <font size=\"5\">  ОТЧЁТ </font>  </b>  </center>   \n",
    "<center><font size=\"3\">по лабораторной работе №1</font></center>\n",
    "<center><font size=\"3\">по дисциплине: «Системы искусственного интеллекта и машинное обучение» </font></center>\n",
    "<br>"
   ]
  },
  {
   "cell_type": "markdown",
   "id": "6792bcd7",
   "metadata": {},
   "source": [
    "## Цель работы\n",
    "\n",
    "Получить практические навыки работы по решению задачи первичного анализа «сырых» данных, подготовки массива к обработке, выявлению и описанию зависимостей в исходных данных с использованием языка программирования Python."
   ]
  },
  {
   "cell_type": "markdown",
   "id": "26bc3440",
   "metadata": {},
   "source": [
    "## Основная часть\n",
    "---"
   ]
  },
  {
   "cell_type": "markdown",
   "id": "5a5b3c3b",
   "metadata": {},
   "source": [
    "### Первичный анализ датасета"
   ]
  },
  {
   "cell_type": "markdown",
   "id": "3f794193",
   "metadata": {},
   "source": [
    "**Предметная область** - доход и размеры домашних хозяйств Калифорнии по данным до 1990г.\n",
    "Признаки в таблице:\n",
    "1) Median House Value: Медианная цена дома в квартале[$]\n",
    "2) Median Income: Медианный доход на семью в квартале[10тыс.$] (TARGET)\n",
    "3) Median Age: Медианный возраст дома в квартале; меньше = новее [лет]\n",
    "4) Total Rooms: Общее количество комнат в квартале\n",
    "5) Total Bedrooms: Общее количество спален в квартале\n",
    "6) Population: Общее количество людей, проживающих в квартале\n",
    "7) Households: Общее количество домохозяйств, групп людей, проживающих в жилом помещении, в квартале\n",
    "8) Latitude: показатель того, насколько далеко на север находится дом; чем выше значение, тем дальше на север [°]\n",
    "9) Longitude: показатель того, насколько далеко на запад находится дом; чем выше значение, тем дальше на запад [°]\n",
    "10) Distance to coast: расстояние до ближайшей точки побережья [м]\n",
    "11) Distance to Los Angeles: расстояние до центра Лос-Анджелеса [м]\n",
    "12) Distance to San Diego: расстояние до центра Сан-Диего [м]\n",
    "13) Distance to San Jose: расстояние до центра Сан-Хосе [м]\n",
    "14) Distance to San Francisco: расстояние до центра Сан-Франциско [м]\n",
    "15) Distance to the ocean (Расстояние до океана)"
   ]
  },
  {
   "cell_type": "markdown",
   "id": "2e2d002b",
   "metadata": {},
   "source": [
    "Структура csv-файла:\n",
    "- Ячейки разделены \";\"\n",
    "- Дробная часть помечена \".\"\n",
    "- Нечисловой признак - ocean_proximity\n",
    "- Дат не представлено\n",
    "- Null помечены \"?$?\" (единственная запись)"
   ]
  },
  {
   "cell_type": "code",
   "execution_count": null,
   "id": "9f32566e",
   "metadata": {},
   "outputs": [],
   "source": [
    "import pandas as pd\n",
    "dataset_file = \"California_Houses_15_col_dot.csv\"\n",
    "dataset = pd.read_csv(\n",
    "    dataset_file,\n",
    "    sep=';',\n",
    "    decimal='.',\n",
    "    header=0,\n",
    "    na_values=['?$?']\n",
    ")\n",
    "\n",
    "dataset.head()"
   ]
  },
  {
   "cell_type": "markdown",
   "id": "23260658",
   "metadata": {},
   "source": [
    "Выясним размеры датасета"
   ]
  },
  {
   "cell_type": "code",
   "execution_count": null,
   "id": "5009cf83",
   "metadata": {},
   "outputs": [],
   "source": [
    "num_rows, num_cols = dataset.shape\n",
    "print(f\"Размеры набора данных: {num_rows} строк и {num_cols} столбцов\\n\")\n",
    "dataset.info()"
   ]
  },
  {
   "cell_type": "markdown",
   "id": "8bbd43ec",
   "metadata": {},
   "source": [
    "Посчитаем пропуски в записях"
   ]
  },
  {
   "cell_type": "code",
   "execution_count": null,
   "id": "1395f81b",
   "metadata": {},
   "outputs": [],
   "source": [
    "for col in dataset.columns:\n",
    "    print(f\"{col}: {dataset[col].isna().sum()} пропусков\")"
   ]
  },
  {
   "cell_type": "markdown",
   "id": "7f1f0352",
   "metadata": {},
   "source": [
    "Признак Tot_Rooms имеет тип float - следствие наличия в выборке NaN"
   ]
  },
  {
   "cell_type": "code",
   "execution_count": null,
   "id": "32039c52",
   "metadata": {},
   "outputs": [],
   "source": [
    "dataset.loc[dataset[\"Tot_Rooms\"] % 1 != 0]"
   ]
  },
  {
   "cell_type": "markdown",
   "id": "6b71d349",
   "metadata": {},
   "source": [
    "Признак *Median_Income* является nan лишь в двух записях "
   ]
  },
  {
   "cell_type": "code",
   "execution_count": null,
   "id": "850ccc16",
   "metadata": {},
   "outputs": [],
   "source": [
    "dataset[dataset.Median_Income.isna()]"
   ]
  },
  {
   "cell_type": "markdown",
   "id": "95ff6f17",
   "metadata": {},
   "source": [
    "Признак *ocean_proximity* - единственный нечисловой, представлен 5 уникальными строками"
   ]
  },
  {
   "cell_type": "code",
   "execution_count": null,
   "id": "376e9c7d",
   "metadata": {},
   "outputs": [],
   "source": [
    "if (dataset.dtypes == 'object').sum() >0:\n",
    "    print(dataset.describe(include=['object', 'bool']).T )\n",
    "dataset.ocean_proximity.value_counts()"
   ]
  },
  {
   "cell_type": "markdown",
   "id": "a38228d1",
   "metadata": {},
   "source": [
    "В то же время он похож на числовой признак Distance_to_coast (за исключением случаев ISLAND)"
   ]
  },
  {
   "cell_type": "code",
   "execution_count": null,
   "id": "cd9548a7",
   "metadata": {},
   "outputs": [],
   "source": [
    "dataset.groupby(\"ocean_proximity\")[\"Distance_to_coast\"].describe()\n"
   ]
  },
  {
   "cell_type": "markdown",
   "id": "57eb0214",
   "metadata": {},
   "source": [
    "Имеется дубликат признака Median_House_Value"
   ]
  },
  {
   "cell_type": "code",
   "execution_count": null,
   "id": "944b3e10",
   "metadata": {},
   "outputs": [],
   "source": [
    "tmp = dataset.loc[dataset[\"Median_House_Value\"] != dataset[\"median_house_value\"]]\n",
    "if tmp.empty:\n",
    "    print(\"Median_House_Value полностью дублирует признак median_house_value\")\n",
    "else:\n",
    "    print(\"Median_House_Value отличается от признака median_house_value\")\n",
    "    tmp"
   ]
  },
  {
   "cell_type": "markdown",
   "id": "0affd0d7",
   "metadata": {},
   "source": [
    "Уберем признак median_house_value из выборки"
   ]
  },
  {
   "cell_type": "code",
   "execution_count": null,
   "id": "b386ee52",
   "metadata": {},
   "outputs": [],
   "source": [
    "dataset = dataset.drop(columns=[\"median_house_value\"])"
   ]
  },
  {
   "cell_type": "markdown",
   "id": "5270db02",
   "metadata": {},
   "source": [
    "Во всем датасете на 20к записей лишь 3 пропуска -> исключим их по строкам"
   ]
  },
  {
   "cell_type": "code",
   "execution_count": null,
   "id": "a0c68c82",
   "metadata": {},
   "outputs": [],
   "source": [
    "print(\"Размер исходного DataFrame\", dataset.shape)\n",
    "print(\"Размер при исключении по строкам\",  dataset.dropna(axis='index', how='any').shape)\n",
    "dataset = dataset.dropna(axis='index', how='any')\n",
    "if dataset.any().isna().sum() != 0:\n",
    "    print(\"В данных остались пропуски\")\n",
    "else:\n",
    "    print(\"Пропусков в данных не осталось\")\n"
   ]
  },
  {
   "cell_type": "markdown",
   "id": "e41593e8",
   "metadata": {},
   "source": [
    "Признак *ocean_proximity* - категориальный и не может быть однозначно перенесен на числовую ось. Используем прием One-Hot encoding"
   ]
  },
  {
   "cell_type": "code",
   "execution_count": null,
   "id": "75a83438",
   "metadata": {},
   "outputs": [],
   "source": [
    "obj_col_name    = \"ocean_proximity\"\n",
    "prefix_col_name = \"OcPrx\"\n",
    "\n",
    "dataset_dummies = pd.get_dummies(\n",
    "    data   = dataset[obj_col_name],\n",
    "    prefix = prefix_col_name,\n",
    "    dtype  = int,\n",
    ")\n",
    "\n",
    "dataset_dummies.head()"
   ]
  },
  {
   "cell_type": "markdown",
   "id": "b64ebc43",
   "metadata": {},
   "source": [
    "Избавимся от нечислового *ocean_proximity*, заменив на выбранную кодировку"
   ]
  },
  {
   "cell_type": "code",
   "execution_count": null,
   "id": "44141e9d",
   "metadata": {},
   "outputs": [],
   "source": [
    "dataset.drop(columns=[obj_col_name], inplace=True)\n",
    "dataset = pd.concat([dataset, dataset_dummies], axis='columns')\n",
    "dataset.head()"
   ]
  },
  {
   "cell_type": "markdown",
   "id": "232c2b11",
   "metadata": {},
   "source": [
    "---"
   ]
  },
  {
   "cell_type": "markdown",
   "id": "2afc69a8",
   "metadata": {},
   "source": [
    "### Выбор целевого значения и признаков для анализа данных"
   ]
  }
 ],
 "metadata": {
  "kernelspec": {
   "display_name": "ml_lab_1",
   "language": "python",
   "name": "python3"
  },
  "language_info": {
   "codemirror_mode": {
    "name": "ipython",
    "version": 3
   },
   "file_extension": ".py",
   "mimetype": "text/x-python",
   "name": "python",
   "nbconvert_exporter": "python",
   "pygments_lexer": "ipython3",
   "version": "3.10.11"
  }
 },
 "nbformat": 4,
 "nbformat_minor": 5
}
